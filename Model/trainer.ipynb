{
 "cells": [
  {
   "cell_type": "code",
   "execution_count": null,
   "id": "898d7167",
   "metadata": {},
   "outputs": [],
   "source": [
    "pip install transformers datasets accelerate"
   ]
  },
  {
   "cell_type": "code",
   "execution_count": null,
   "id": "01a3866d",
   "metadata": {},
   "outputs": [],
   "source": [
    "from transformers import AutoTokenizer, AutoModelForCausalLM, Trainer, TrainingArguments, DataCollatorForLanguageModeling\n",
    "from datasets import load_dataset, Dataset\n",
    "import os"
   ]
  },
  {
   "cell_type": "code",
   "execution_count": null,
   "id": "01cc8d26",
   "metadata": {},
   "outputs": [],
   "source": [
    "def load_all_chunks(folder_path):\n",
    "    files = sorted([f for f in os.listdir(folder_path) if f.startswith(\"chunk_\") and f.endswith(\".txt\")])\n",
    "    texts = []\n",
    "    for file in files:\n",
    "        with open(os.path.join(folder_path, file), \"r\", encoding=\"utf-8\") as f:\n",
    "            text = f.read().strip()\n",
    "            if text:\n",
    "                texts.append({\"text\": text})\n",
    "    return Dataset.from_list(texts)"
   ]
  },
  {
   "cell_type": "code",
   "execution_count": null,
   "id": "f367110e",
   "metadata": {},
   "outputs": [],
   "source": [
    "dataset = load_all_chunks(\"Data/all_llc_chunks\")"
   ]
  },
  {
   "cell_type": "code",
   "execution_count": null,
   "id": "ea0bb415",
   "metadata": {},
   "outputs": [],
   "source": [
    "model_name = \"gpt2\"  \n",
    "tokenizer = AutoTokenizer.from_pretrained(model_name)\n",
    "tokenizer.pad_token = tokenizer.eos_token"
   ]
  },
  {
   "cell_type": "code",
   "execution_count": null,
   "id": "c9f6b184",
   "metadata": {},
   "outputs": [],
   "source": [
    "def tokenize(batch):\n",
    "    return tokenizer(batch[\"text\"], truncation=True, padding=\"max_length\", max_length=512)\n"
   ]
  },
  {
   "cell_type": "code",
   "execution_count": null,
   "id": "a7455a7a",
   "metadata": {},
   "outputs": [],
   "source": [
    "\n",
    "tokenized_dataset = dataset.map(tokenize, batched=True)"
   ]
  },
  {
   "cell_type": "code",
   "execution_count": null,
   "id": "9c84ac86",
   "metadata": {},
   "outputs": [],
   "source": [
    "data_collator = DataCollatorForLanguageModeling(tokenizer=tokenizer, mlm=False)"
   ]
  },
  {
   "cell_type": "code",
   "execution_count": null,
   "id": "b01132a6",
   "metadata": {},
   "outputs": [],
   "source": [
    "training_args = TrainingArguments(\n",
    "    output_dir=\"./llc_gpt2\",\n",
    "    per_device_train_batch_size=1,\n",
    "    num_train_epochs=1,\n",
    "    save_steps=10,\n",
    "    save_total_limit=2,\n",
    "    logging_steps=5,\n",
    ")"
   ]
  },
  {
   "cell_type": "code",
   "execution_count": null,
   "id": "c1ad1618",
   "metadata": {},
   "outputs": [],
   "source": [
    "trainer = Trainer(\n",
    "    model=AutoModelForCausalLM.from_pretrained(model_name),\n",
    "    args=training_args,\n",
    "    train_dataset=tokenized_dataset,\n",
    "    tokenizer=tokenizer,\n",
    "    data_collator=data_collator,\n",
    ")"
   ]
  },
  {
   "cell_type": "code",
   "execution_count": null,
   "id": "bbf1fac6",
   "metadata": {},
   "outputs": [],
   "source": [
    "trainer.train()"
   ]
  },
  {
   "cell_type": "code",
   "execution_count": null,
   "id": "a68f66ca",
   "metadata": {},
   "outputs": [],
   "source": [
    "trainer.save_model(\"./llc_gpt2\")"
   ]
  },
  {
   "cell_type": "code",
   "execution_count": null,
   "id": "2c739d50",
   "metadata": {},
   "outputs": [],
   "source": [
    "tokenizer.save_pretrained(\"./llc_gpt2\")"
   ]
  }
 ],
 "metadata": {
  "kernelspec": {
   "display_name": "base",
   "language": "python",
   "name": "python3"
  },
  "language_info": {
   "codemirror_mode": {
    "name": "ipython",
    "version": 3
   },
   "file_extension": ".py",
   "mimetype": "text/x-python",
   "name": "python",
   "nbconvert_exporter": "python",
   "pygments_lexer": "ipython3",
   "version": "3.11.7"
  }
 },
 "nbformat": 4,
 "nbformat_minor": 5
}
